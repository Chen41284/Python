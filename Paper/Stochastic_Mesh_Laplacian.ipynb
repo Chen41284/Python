{
 "cells": [
  {
   "cell_type": "markdown",
   "metadata": {},
   "source": [
    "# Stochastic Mesh Laplacian"
   ]
  },
  {
   "cell_type": "markdown",
   "metadata": {},
   "source": [
    "加载相关的库"
   ]
  },
  {
   "cell_type": "code",
   "execution_count": 1,
   "metadata": {
    "collapsed": true
   },
   "outputs": [],
   "source": [
    "import igl\n",
    "import scipy as sp\n",
    "import numpy as np\n",
    "from meshplot import plot, subplot, interact\n",
    "\n",
    "import os\n",
    "root_folder = os.getcwd()\n",
    "#root_folder = os.path.join(os.getcwd(), \"tutorial\")"
   ]
  },
  {
   "cell_type": "markdown",
   "metadata": {},
   "source": [
    "读取犰狳文件"
   ]
  },
  {
   "cell_type": "code",
   "execution_count": 2,
   "metadata": {},
   "outputs": [
    {
     "name": "stdout",
     "output_type": "stream",
     "text": [
      "网格的平均边长：0.852035\n",
      "Vertices:  69191\n",
      "Faces:  138378\n"
     ]
    }
   ],
   "source": [
    "## Load a mesh in OFF format\n",
    "v, f = igl.read_triangle_mesh(os.path.join(root_folder, \"data\", \"Armadillo4.off\"))\n",
    "print(\"网格的平均边长：%f\" % igl.avg_edge_length(v, f))\n",
    "\n",
    "## Print the vertices and faces matrices \n",
    "print(\"Vertices: \", len(v))\n",
    "print(\"Faces: \", len(f))"
   ]
  },
  {
   "cell_type": "markdown",
   "metadata": {},
   "source": [
    "## 网格的多尺度表示LB算子"
   ]
  },
  {
   "cell_type": "code",
   "execution_count": 56,
   "metadata": {},
   "outputs": [
    {
     "data": {
      "application/vnd.jupyter.widget-view+json": {
       "model_id": "9720bda6f0194afea78075b8f7d5c3bc",
       "version_major": 2,
       "version_minor": 0
      },
      "text/plain": [
       "Renderer(camera=PerspectiveCamera(children=(DirectionalLight(color='white', intensity=0.6, position=(0.0100498…"
      ]
     },
     "metadata": {},
     "output_type": "display_data"
    },
    {
     "name": "stdout",
     "output_type": "stream",
     "text": [
      "(69191, 3)\n"
     ]
    }
   ],
   "source": [
    "l = -igl.cotmatrix(v, f)\n",
    "m = igl.massmatrix(v, f, igl.MASSMATRIX_TYPE_VORONOI)\n",
    "\n",
    "k = 10\n",
    "d, u = sp.sparse.linalg.eigsh(l, k, m, sigma=0, which=\"LM\")\n",
    "\n",
    "# 渲染原始的图\n",
    "n = igl.per_vertex_normals(v, f)*0.5+0.5\n",
    "c = np.linalg.norm(n, axis=1)\n",
    "p = plot(v, f, c, shading={\"wireframe\": False}, return_plot=True)\n",
    "\n",
    "\n",
    "p_k = u @ (u.T @ m.T @ v)\n",
    "print(p_k.shape)\n",
    "# p_k = u.dot(u.T).dot(m.T).dot(p)\n",
    "n = igl.per_vertex_normals(p_k, f)*0.5+0.5\n",
    "c = np.linalg.norm(n, axis=1)\n",
    "p.update_object(vertices=p_k, colors=c)"
   ]
  },
  {
   "cell_type": "markdown",
   "metadata": {},
   "source": [
    "## 计算随机网格的拉普拉斯矩阵"
   ]
  },
  {
   "cell_type": "markdown",
   "metadata": {},
   "source": [
    "网格顶点的显著性值的计算"
   ]
  },
  {
   "cell_type": "code",
   "execution_count": 6,
   "metadata": {},
   "outputs": [
    {
     "data": {
      "application/vnd.jupyter.widget-view+json": {
       "model_id": "a6ece5f79ad44bd8b8b993677a34435d",
       "version_major": 2,
       "version_minor": 0
      },
      "text/plain": [
       "Renderer(camera=PerspectiveCamera(children=(DirectionalLight(color='white', intensity=0.6, position=(-6.817447…"
      ]
     },
     "metadata": {},
     "output_type": "display_data"
    },
    {
     "name": "stdout",
     "output_type": "stream",
     "text": [
      "[[-0.17257498]\n",
      " [ 0.17353634]\n",
      " [ 0.08367856]\n",
      " ..., \n",
      " [ 0.31660952]\n",
      " [-0.00795572]\n",
      " [ 0.12659732]]\n",
      "882.6761415999999\n"
     ]
    }
   ],
   "source": [
    "import time\n",
    "start = time.clock()\n",
    "adj_list = igl.adjacency_list(f)\n",
    "average_length = igl.avg_edge_length(v, f)\n",
    "alpha = []\n",
    "D = []\n",
    "A = igl.adjacency_matrix(f)\n",
    "W = A.astype(float)    # 转换数据类型\n",
    "for i in range(len(adj_list)):\n",
    "    n = len(adj_list[i])\n",
    "    D.append(n)\n",
    "    ring_length = 0\n",
    "    for j in range(n):\n",
    "        dist = np.linalg.norm(v[i] - v[adj_list[i][j]])\n",
    "        ring_length += dist\n",
    "        W[i, adj_list[i][j]] = 1 / (dist * dist)\n",
    "    \n",
    "    alpha_i = (average_length * n) / ring_length + 1\n",
    "    alpha.append(alpha_i)\n",
    "    \n",
    "D = sp.sparse.diags(D)   # 顶点的入度矩阵\n",
    "D = D.astype(float)\n",
    "L = D - W  # 网格的拉普拉斯矩阵\n",
    "L_abs = abs(L)\n",
    "\n",
    "# 矩阵L的归一化\n",
    "def normalization(mat):\n",
    "    '''\n",
    "    mat:numpy.matrix\n",
    "    对输入的数据进行基于行的归一化\n",
    "    '''\n",
    "    mat_row_sum = mat.sum(axis = 1, dtype='float')\n",
    "    mat_row_sum = sp.sparse.diags(1 / mat_row_sum.A1.ravel())\n",
    "    mat_norm = mat @ mat_row_sum\n",
    "    \n",
    "    return mat_norm\n",
    "\n",
    "LL = normalization(L_abs)  # 网格的随机拉普拉斯矩阵\n",
    "k = 5  # 网格的尺度\n",
    "lamda = 0.001 # \n",
    "\n",
    "alpha = sp.sparse.diags(alpha)\n",
    "\n",
    "import numpy.matlib\n",
    "I = np.matlib.zeros((LL.shape[0], 1))\n",
    "\n",
    "# 计算每个顶点的显著性值\n",
    "F = LL\n",
    "for i in range(2, k + 1):\n",
    "    F_next = F @ L_abs\n",
    "    F_next = normalization(F_next)\n",
    "    # F_next = np.where(F_next >= lamda, F_next, 0)\n",
    "    F_nonzero = F_next.nonzero()\n",
    "    row = F_nonzero[0]\n",
    "    col = F_nonzero[1]\n",
    "    for i in range(len(row)):\n",
    "            if F_next[row[i], col[i]] < lamda:\n",
    "                F_next[row[i], col[i]] = 0\n",
    "    F_next = F_next @ alpha\n",
    "    F_next = normalization(F_next)\n",
    "    D = abs(F_next - F)\n",
    "    D = D.sum(axis = 1, dtype = \"float\")\n",
    "    I = I + D\n",
    "    F = F_next\n",
    "\n",
    "'''\n",
    "P = F @ v\n",
    "# 尺度变化之后的渲染图\n",
    "n = igl.per_vertex_normals(P, f)*0.5+0.5\n",
    "c = np.linalg.norm(n, axis=1)\n",
    "p = plot(P, f, c, shading={\"wireframe\": False}, return_plot=True)\n",
    "'''\n",
    "\n",
    "I = np.log(I)\n",
    "end = time.clock()\n",
    "runtime = end - start\n",
    "print(I)\n",
    "print(runtime)"
   ]
  },
  {
   "cell_type": "markdown",
   "metadata": {
    "collapsed": true
   },
   "source": [
    "计算网格的显著性顶点"
   ]
  },
  {
   "cell_type": "code",
   "execution_count": 26,
   "metadata": {},
   "outputs": [
    {
     "data": {
      "application/vnd.jupyter.widget-view+json": {
       "model_id": "7f3e948c52d949f3b6cb69698d1abbd8",
       "version_major": 2,
       "version_minor": 0
      },
      "text/plain": [
       "Renderer(camera=PerspectiveCamera(children=(DirectionalLight(color='white', intensity=0.6, position=(0.0100498…"
      ]
     },
     "metadata": {},
     "output_type": "display_data"
    },
    {
     "name": "stdout",
     "output_type": "stream",
     "text": [
      "277\n"
     ]
    }
   ],
   "source": [
    "I_array = I.A1\n",
    "I_max = np.max(I_array)\n",
    "I_std = np.std(I_array)\n",
    "if I_std > 1 :   \n",
    "    I_max = I_max / I_std\n",
    "\n",
    "threshold = 0.25 * I_max  # 全局显著性的设置\n",
    "selected_points = []\n",
    "for i in range(len(adj_list)):\n",
    "    add = True\n",
    "    for j in adj_list[i]:\n",
    "        if I_array[j] > I_array[i]:\n",
    "            add = False\n",
    "            break\n",
    "    if add and I_array[i] > threshold:\n",
    "        selected_points.append(v[i])\n",
    "\n",
    "selected_points = np.array(selected_points)\n",
    "n = igl.per_vertex_normals(v, f)*0.5+0.5\n",
    "c = np.linalg.norm(n, axis=1)\n",
    "p = plot(v, f, c, shading={\"wireframe\": False}, return_plot=True)\n",
    "p.add_points(selected_points, shading={\"point_color\": \"red\", \"point_size\": 12})\n",
    "print(len(selected_points))"
   ]
  },
  {
   "cell_type": "code",
   "execution_count": null,
   "metadata": {
    "collapsed": true
   },
   "outputs": [],
   "source": []
  }
 ],
 "metadata": {
  "kernelspec": {
   "display_name": "Python 3",
   "language": "python",
   "name": "python3"
  },
  "language_info": {
   "codemirror_mode": {
    "name": "ipython",
    "version": 3
   },
   "file_extension": ".py",
   "mimetype": "text/x-python",
   "name": "python",
   "nbconvert_exporter": "python",
   "pygments_lexer": "ipython3",
   "version": "3.6.2"
  }
 },
 "nbformat": 4,
 "nbformat_minor": 2
}
